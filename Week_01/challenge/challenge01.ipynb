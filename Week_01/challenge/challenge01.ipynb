{
 "cells": [
  {
   "cell_type": "markdown",
   "metadata": {},
   "source": [
    "Hello, Guys what's up"
   ]
  },
  {
   "cell_type": "code",
   "execution_count": 2,
   "metadata": {},
   "outputs": [
    {
     "name": "stdout",
     "output_type": "stream",
     "text": [
      "[0.29248831 0.21610823 0.48672363 0.20789537 0.86480051]\n"
     ]
    }
   ],
   "source": [
    "import numpy as np\n",
    "\n",
    "# Create a NumPy array with random numbers\n",
    "arr = np.random.rand(5)\n",
    "\n",
    "print(arr)\n"
   ]
  },
  {
   "cell_type": "code",
   "execution_count": 4,
   "metadata": {},
   "outputs": [
    {
     "name": "stdout",
     "output_type": "stream",
     "text": [
      "25th percentile: 0.21610823189197104\n",
      "50th percentile (median): 0.29248831398465935\n",
      "75th percentile: 0.4867236332408724\n"
     ]
    }
   ],
   "source": [
    "# Calculate percentiles\n",
    "p25 = np.percentile(arr, 25)\n",
    "p50 = np.percentile(arr, 50)\n",
    "p75 = np.percentile(arr, 75)\n",
    "\n",
    "print(f\"25th percentile: {p25}\")\n",
    "print(f\"50th percentile (median): {p50}\")\n",
    "print(f\"75th percentile: {p75}\")"
   ]
  },
  {
   "cell_type": "code",
   "execution_count": null,
   "metadata": {},
   "outputs": [],
   "source": [
    "bins = [0, 5, 10]\n",
    "\n",
    "hist, bin_edges = np.histogram(arr, bins=bins)"
   ]
  }
 ],
 "metadata": {
  "kernelspec": {
   "display_name": "spenv",
   "language": "python",
   "name": "python3"
  },
  "language_info": {
   "codemirror_mode": {
    "name": "ipython",
    "version": 3
   },
   "file_extension": ".py",
   "mimetype": "text/x-python",
   "name": "python",
   "nbconvert_exporter": "python",
   "pygments_lexer": "ipython3",
   "version": "3.10.13"
  }
 },
 "nbformat": 4,
 "nbformat_minor": 2
}
