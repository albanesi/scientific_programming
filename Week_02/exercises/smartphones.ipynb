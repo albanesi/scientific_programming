{
 "cells": [
  {
   "cell_type": "code",
   "execution_count": 1,
   "metadata": {},
   "outputs": [
    {
     "name": "stdout",
     "output_type": "stream",
     "text": [
      "c:\\Users\\alban\\OneDrive\\Dokumente\\AA-Zhaw\\Sem5\\Scientific Programming\\Github\\scientific_programming\\Week_02\\exercises\n"
     ]
    }
   ],
   "source": [
    "# Libraries\n",
    "import os\n",
    "import random\n",
    "import numpy as np\n",
    "import pandas as pd\n",
    "from faker import Faker\n",
    "\n",
    "\n",
    "# Ignore warnings\n",
    "import warnings\n",
    "warnings.filterwarnings('ignore')\n",
    "\n",
    "# Show current working directory\n",
    "print(os.getcwd())"
   ]
  },
  {
   "cell_type": "code",
   "execution_count": 6,
   "metadata": {},
   "outputs": [
    {
     "data": {
      "text/html": [
       "<div>\n",
       "<style scoped>\n",
       "    .dataframe tbody tr th:only-of-type {\n",
       "        vertical-align: middle;\n",
       "    }\n",
       "\n",
       "    .dataframe tbody tr th {\n",
       "        vertical-align: top;\n",
       "    }\n",
       "\n",
       "    .dataframe thead th {\n",
       "        text-align: right;\n",
       "    }\n",
       "</style>\n",
       "<table border=\"1\" class=\"dataframe\">\n",
       "  <thead>\n",
       "    <tr style=\"text-align: right;\">\n",
       "      <th></th>\n",
       "      <th>Smartphone_Marke</th>\n",
       "      <th>Name of User</th>\n",
       "      <th>Email</th>\n",
       "      <th>Price</th>\n",
       "    </tr>\n",
       "  </thead>\n",
       "  <tbody>\n",
       "    <tr>\n",
       "      <th>0</th>\n",
       "      <td>Nokia</td>\n",
       "      <td>Arthur Bennett DDS</td>\n",
       "      <td>dmitchell@example.com</td>\n",
       "      <td>942</td>\n",
       "    </tr>\n",
       "    <tr>\n",
       "      <th>1</th>\n",
       "      <td>Samsung</td>\n",
       "      <td>Christopher Foley</td>\n",
       "      <td>barbara31@example.net</td>\n",
       "      <td>975</td>\n",
       "    </tr>\n",
       "    <tr>\n",
       "      <th>2</th>\n",
       "      <td>Apple</td>\n",
       "      <td>Diane Powell</td>\n",
       "      <td>granthurley@example.net</td>\n",
       "      <td>1063</td>\n",
       "    </tr>\n",
       "    <tr>\n",
       "      <th>3</th>\n",
       "      <td>Huawei</td>\n",
       "      <td>Casey Cervantes</td>\n",
       "      <td>dawntaylor@example.com</td>\n",
       "      <td>921</td>\n",
       "    </tr>\n",
       "    <tr>\n",
       "      <th>4</th>\n",
       "      <td>Apple</td>\n",
       "      <td>Cory Elliott</td>\n",
       "      <td>kimberlysmith@example.org</td>\n",
       "      <td>1057</td>\n",
       "    </tr>\n",
       "  </tbody>\n",
       "</table>\n",
       "</div>"
      ],
      "text/plain": [
       "  Smartphone_Marke        Name of User                      Email  Price\n",
       "0            Nokia  Arthur Bennett DDS      dmitchell@example.com    942\n",
       "1          Samsung   Christopher Foley      barbara31@example.net    975\n",
       "2            Apple        Diane Powell    granthurley@example.net   1063\n",
       "3           Huawei     Casey Cervantes     dawntaylor@example.com    921\n",
       "4            Apple        Cory Elliott  kimberlysmith@example.org   1057"
      ]
     },
     "execution_count": 6,
     "metadata": {},
     "output_type": "execute_result"
    }
   ],
   "source": [
    "from faker import Faker\n",
    "\n",
    "# Create an instance of the Faker class\n",
    "fake = Faker()\n",
    "# Empty list to store the data\n",
    "col_01 = []\n",
    "col_02 = []\n",
    "col_03 = []\n",
    "col_04 = []\n",
    "\n",
    "smartphones= [\"Nokia\",\n",
    "              \"Samsung\",\n",
    "              \"Apple\",\n",
    "              \"Huawei\"]\n",
    "\n",
    "random.seed(10)\n",
    "# Loop to generate the data\n",
    "for _ in range(100):\n",
    "    col_01.append(smartphones[random.randint(0,3)])\n",
    "    col_02.append(fake.name())\n",
    "    col_03.append(fake.email())\n",
    "    col_04.append(round(random.normalvariate(1000,200)))\n",
    "\n",
    "# Store the data in a dataframe\n",
    "df = pd.DataFrame(list(zip(col_01, col_02, col_03, col_04)), columns=['Smartphone_Marke', 'Name of User', 'Email', 'Price'])\n",
    "df.head()"
   ]
  }
 ],
 "metadata": {
  "kernelspec": {
   "display_name": "spenv",
   "language": "python",
   "name": "python3"
  },
  "language_info": {
   "codemirror_mode": {
    "name": "ipython",
    "version": 3
   },
   "file_extension": ".py",
   "mimetype": "text/x-python",
   "name": "python",
   "nbconvert_exporter": "python",
   "pygments_lexer": "ipython3",
   "version": "3.10.13"
  }
 },
 "nbformat": 4,
 "nbformat_minor": 2
}
